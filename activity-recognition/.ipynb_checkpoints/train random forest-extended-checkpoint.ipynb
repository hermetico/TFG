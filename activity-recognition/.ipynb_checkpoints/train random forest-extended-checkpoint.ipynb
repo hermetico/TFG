{
 "cells": [
  {
   "cell_type": "markdown",
   "metadata": {},
   "source": [
    "In this notebook we are going to train a random forest based on the last layer of the cnn classifier and some extra information. We will use the train and validation dataset"
   ]
  },
  {
   "cell_type": "code",
   "execution_count": 100,
   "metadata": {
    "collapsed": false
   },
   "outputs": [],
   "source": [
    "import sys, os\n",
    "import numpy as np\n",
    "from  sklearn.ensemble import RandomForestClassifier\n",
    "from IPython.display import display, Image\n",
    "import matplotlib.image as mpimg\n",
    "import matplotlib.pyplot as plt\n",
    "import pickle\n",
    "%matplotlib inline\n",
    "# this file should be run from {caffe_root}/examples (otherwise change this line)\n",
    "caffe_root = '/media/hermetico/2TB/frameworks/caffe/'  \n",
    "\n",
    "activities_net = {\n",
    "    'deploy': os.path.join(caffe_root, 'models/finetune_daily_activities/deploy.prototxt'),\n",
    "    'model': os.path.join(caffe_root, 'models/finetune_daily_activities/reference_activitiesnet.caffemodel'),\n",
    "    'forest': os.path.join(caffe_root, 'models/finetune_daily_activities/forest.pck')\n",
    "}\n",
    "\n",
    "# the paths for the labels and for the dataset\n",
    "labels_path = os.path.join(caffe_root, 'data/daily_activities/labels.txt')\n",
    "# train and validation dataset\n",
    "train_dataset_path = os.path.join(caffe_root, 'data/daily_activities/train.txt')\n",
    "val_dataset_path = os.path.join(caffe_root, 'data/daily_activities/val.txt')\n",
    "test_dataset_path = os.path.join(caffe_root, 'data/daily_activities/test.txt')\n",
    "sys.path.insert(0, caffe_root + 'python')\n",
    "\n",
    "import caffe\n",
    "caffe.set_device(0)\n",
    "caffe.set_mode_gpu()"
   ]
  },
  {
   "cell_type": "code",
   "execution_count": 2,
   "metadata": {
    "collapsed": false
   },
   "outputs": [
    {
     "name": "stdout",
     "output_type": "stream",
     "text": [
      "20 labels loaded\n",
      "10454 test images\n"
     ]
    }
   ],
   "source": [
    "# here we merge train and validation datasets into the train dataset\n",
    "train_dataset = [ \n",
    "    line.split(' ') for line in list(np.loadtxt(train_dataset_path, str, delimiter='\\n')) + \\\n",
    "    list(np.loadtxt(val_dataset_path, str, delimiter='\\n')) if len(line.split(' ')) == 2 # there are some images with wierd paths\n",
    "]\n",
    "\n",
    "train_paths, train_labels = zip(*[(path, int(label)) for path, label in train_dataset])\n",
    "# the test dataset\n",
    "test_dataset = [ line.split(' ') for line in list(np.loadtxt(test_dataset_path, str, delimiter='\\n')) ]\n",
    "test_paths, test_labels = zip(*[(path, int(label)) for path, label in test_dataset])\n",
    "\n",
    "labels = list(np.loadtxt(labels_path, str, delimiter='\\n'))\n",
    "NUM_LABELS = len(labels)\n",
    "print \"%i labels loaded\" % NUM_LABELS\n",
    "print \"%i test images\" % (len(train_paths))"
   ]
  },
  {
   "cell_type": "code",
   "execution_count": 3,
   "metadata": {
    "collapsed": false
   },
   "outputs": [],
   "source": [
    "# loads activities net \n",
    "activitiesnet = caffe.Net(activities_net['deploy'], activities_net['model'], caffe.TEST)\n",
    "activitiesnet.blobs['data'].reshape(1,3,227,227)\n",
    "\n",
    "# Preprocessing for caffe inputs\n",
    "transformer = caffe.io.Transformer({'data': activitiesnet.blobs['data'].data.shape})\n",
    "transformer.set_transpose('data', (2,0,1))\n",
    "transformer.set_channel_swap('data', (2,1,0))\n",
    "transformer.set_raw_scale('data', 255.0)\n"
   ]
  },
  {
   "cell_type": "code",
   "execution_count": 156,
   "metadata": {
    "collapsed": false
   },
   "outputs": [],
   "source": [
    "def extract_hist_features(img):\n",
    "    \"\"\"Devuelve el histograma normalizado\"\"\"\n",
    "    r, _ = np.histogram(img[:,:,0],bins=range(256))\n",
    "    g, _ = np.histogram(img[:,:,1],bins=range(256))\n",
    "    b, _ = np.histogram(img[:,:,2],bins=range(256))\n",
    "    hist = np.append(r,g)\n",
    "    hist = np.append(hist, b)\n",
    "    hist /= np.max(hist)\n",
    "    return hist\n",
    "\n",
    "def extract_features(net, image_path, layer='fc6'):\n",
    "    \"\"\"A function which extracts the features of the an input image\"\"\"\n",
    "    im = caffe.io.load_image(image_path)\n",
    "    net.blobs['data'].data[...] = transformer.preprocess('data', im)\n",
    "    out = net.forward()\n",
    "    return net.blobs[layer].data.copy()[0]\n",
    "\n",
    "def extract_features_and_hist(net, image_path, layer='fc6'):\n",
    "    \"\"\"A function which extracts the features of the an input image\"\"\"\n",
    "    # computes the cnn features\n",
    "    im = caffe.io.load_image(image_path)\n",
    "    net.blobs['data'].data[...] = transformer.preprocess('data', im)\n",
    "    out = net.forward()\n",
    "    # returns both\n",
    "    return net.blobs[layer].data.copy()[0], extract_hist_features(img)\n",
    "\n",
    "def show_image_from_path(path, label=None):\n",
    "    if label is not None:\n",
    "        print \"Label:\", label\n",
    "    display(Image(filename=path))\n",
    "\n",
    "\n",
    "    "
   ]
  },
  {
   "cell_type": "code",
   "execution_count": 153,
   "metadata": {
    "collapsed": false
   },
   "outputs": [
    {
     "name": "stdout",
     "output_type": "stream",
     "text": [
      "features of one image (20,)\n",
      "features of one image (20,) features of hist (765,)\n"
     ]
    }
   ],
   "source": [
    "# extract features\n",
    "demo_feature = extract_features(activitiesnet, train_paths[0], 'probs')\n",
    "print \"features of one image\", demo_feature.shape\n",
    "demo_feature, demo_hist = extract_features_and_hist(activitiesnet, train_paths[0], 'probs')\n",
    "print \"features of one image\", demo_feature.shape, \"features of hist\", demo_hist.shape"
   ]
  },
  {
   "cell_type": "markdown",
   "metadata": {},
   "source": [
    "Now we are going to add more information to the features"
   ]
  },
  {
   "cell_type": "code",
   "execution_count": 160,
   "metadata": {
    "collapsed": false
   },
   "outputs": [
    {
     "data": {
      "image/png": "[encoded data removed]",
      "text/plain": [
       "<matplotlib.figure.Figure at 0x7fdc66025810>"
      ]
     },
     "metadata": {},
     "output_type": "display_data"
    }
   ],
   "source": [
    "img = mpimg.imread(train_paths[0])\n",
    "hist, edges = np.histogram(img[:,:,0],bins=range(256))\n",
    "y_pos = range(255)\n",
    "plt.barh(y_pos, hist,  alpha=1)\n",
    "plt.show()\n"
   ]
  },
  {
   "cell_type": "code",
   "execution_count": 155,
   "metadata": {
    "collapsed": false
   },
   "outputs": [
    {
     "data": {
      "image/png": "[encoded data removed]",
      "text/plain": [
       "<matplotlib.figure.Figure at 0x7fdc66319a90>"
      ]
     },
     "metadata": {},
     "output_type": "display_data"
    },
    {
     "data": {
      "image/png": "[encoded data removed]",
      "text/plain": [
       "<matplotlib.figure.Figure at 0x7fdc66958710>"
      ]
     },
     "metadata": {},
     "output_type": "display_data"
    },
    {
     "data": {
      "image/png": "[encoded data removed]",
      "text/plain": [
       "<matplotlib.figure.Figure at 0x7fdc65f63c50>"
      ]
     },
     "metadata": {},
     "output_type": "display_data"
    }
   ],
   "source": [
    "img = mpimg.imread(train_paths[0])\n",
    "plt.hist(img[:,:,0].ravel() ,256,[0,256], color=\"red\")\n",
    "plt.show()\n",
    "plt.hist(img[:,:,1].ravel() ,256,[0,256], color=\"green\")\n",
    "plt.show()\n",
    "plt.hist(img[:,:,2].ravel() ,256,[0,256], color=\"blue\")\n",
    "plt.show()"
   ]
  },
  {
   "cell_type": "code",
   "execution_count": 161,
   "metadata": {
    "collapsed": false
   },
   "outputs": [
    {
     "name": "stdout",
     "output_type": "stream",
     "text": [
      "Generating the forest\n",
      "Iteration 0 (0,10454) 500 files\n",
      "Iteration 1 (500,10454) 500 files\n",
      "Iteration 2 (1000,10454) 500 files\n",
      "Iteration 3 (1500,10454) 500 files\n",
      "Iteration 4 (2000,10454) 500 files\n",
      "Iteration 5 (2500,10454) 500 files\n",
      "Iteration 6 (3000,10454) 500 files\n",
      "Iteration 7 (3500,10454) 500 files\n",
      "Iteration 8 (4000,10454) 500 files\n",
      "Iteration 9 (4500,10454) 500 files\n",
      "Iteration 10 (5000,10454) 500 files\n",
      "Iteration 11 (5500,10454) 500 files\n",
      "Iteration 12 (6000,10454) 500 files\n",
      "Iteration 13 (6500,10454) 500 files\n",
      "Iteration 14 (7000,10454) 500 files\n",
      "Iteration 15 (7500,10454) 500 files\n",
      "Iteration 16 (8000,10454) 500 files\n",
      "Iteration 17 (8500,10454) 500 files\n",
      "Iteration 18 (9000,10454) 500 files\n",
      "Iteration 19 (9500,10454) 500 files\n",
      "Iteration 20 (10000,10454) 454 files\n"
     ]
    }
   ],
   "source": [
    "def train_forest():\n",
    "    # avoids loading the data of all images\n",
    "    batch_size = 500\n",
    "    hist_size = 255 * 3\n",
    "    features_layer = 'probs'\n",
    "\n",
    "    # Reduce the number of samples to see how it fails\n",
    "    total_samples = len(train_paths)\n",
    "    cores = 6\n",
    "    # creates and trains 500 forests over 8 cores\n",
    "    rf = RandomForestClassifier(n_estimators=500, n_jobs=cores)\n",
    "    iteration = 0\n",
    "    offset = 0\n",
    "    end = False\n",
    "    while offset <= total_samples:\n",
    "\n",
    "        # selects the samples    \n",
    "        paths_samples = train_paths[offset:offset + batch_size]\n",
    "        labels_samples = train_labels[offset:offset + batch_size]\n",
    "        # Extract features of the samples\n",
    "        train_features = np.zeros((len(paths_samples), NUM_LABELS + hist_size))\n",
    "        for i, img in enumerate(paths_samples):\n",
    "            # the cnn features and the hist features\n",
    "            cnn_features, hist_features = extract_features_and_hist(activitiesnet, img, features_layer)\n",
    "            # concat and train the forest\n",
    "            train_features[i] = np.append(cnn_features, hist_features)\n",
    "        \n",
    "        rf.fit(train_features, labels_samples)\n",
    "        print \"Iteration %i (%i,%i) %i files\" % (iteration, offset, total_samples, len(paths_samples))\n",
    "\n",
    "        offset += batch_size\n",
    "        iteration += 1\n",
    "\n",
    "    return rf\n",
    "\n",
    "def maybe_train(forest_path, force=False):\n",
    "    if not os.path.isfile(forest_path) or force:\n",
    "        print \"Generating the forest\"\n",
    "        forest = train_forest()\n",
    "        with open(forest_path, 'wb') as f:\n",
    "            pickle.dump(forest, f, pickle.HIGHEST_PROTOCOL)\n",
    "    else:\n",
    "        print \"Loading forest from file\"\n",
    "        with open(forest_path, 'r') as f:\n",
    "            forest = pickle.load(f)\n",
    "    return forest# so far it is only the histogram\n",
    "hist_size = 256 * 3\n",
    "# forces generate the forest\n",
    "#rf = maybe_train(activities_net['forest'], True)\n",
    "rf = maybe_train(activities_net['forest'])"
   ]
  },
  {
   "cell_type": "markdown",
   "metadata": {},
   "source": [
    "Evaluate category accuracy"
   ]
  },
  {
   "cell_type": "code",
   "execution_count": 165,
   "metadata": {
    "collapsed": true
   },
   "outputs": [],
   "source": [
    "def eval_category(net, rf, category, label, layer='probs'):\n",
    "    num_samples = len(category)\n",
    "    hist_size = 255 * 3\n",
    "    features = np.zeros((num_samples, NUM_LABELS + hist_size))\n",
    "    for i, path in enumerate(category):\n",
    "        cnn_features, hist_features = extract_features_and_hist(net, path, layer)\n",
    "        features[i] = np.append(cnn_features, hist_features)\n",
    "    top_labels = np.array(rf.predict(features))\n",
    "    return np.count_nonzero(top_labels == label) / float(num_samples)\n",
    "\n",
    "def eval_categories(net, rf,  categories):\n",
    "    accuracies = np.zeros(len(categories))\n",
    "    for i, category in enumerate(categories):\n",
    "        accuracies[i] = eval_category(net, rf, category, i )\n",
    "    return accuracies * 100\n"
   ]
  },
  {
   "cell_type": "code",
   "execution_count": 166,
   "metadata": {
    "collapsed": false
   },
   "outputs": [
    {
     "data": {
      "image/png": "[encoded data removed]",
      "text/plain": [
       "<matplotlib.figure.Figure at 0x7fdc65af9d10>"
      ]
     },
     "metadata": {},
     "output_type": "display_data"
    }
   ],
   "source": [
    "paths = [[] for _ in range(NUM_LABELS)]\n",
    "# each index index paths will contain a list of  pictures associated to a category\n",
    "for i, path in enumerate(test_paths):\n",
    "    paths[test_labels[i]].append(path)\n",
    "\n",
    "y_pos = np.arange(NUM_LABELS)\n",
    "num_examples = [len(examples) for examples in paths]\n",
    "plt.barh(y_pos, num_examples,  alpha=1)\n",
    "plt.yticks(y_pos, labels)\n",
    "plt.xlabel('Number of pictures')\n",
    "plt.title('List of categories and number of pictures')\n",
    "plt.show()"
   ]
  },
  {
   "cell_type": "code",
   "execution_count": 167,
   "metadata": {
    "collapsed": false
   },
   "outputs": [],
   "source": [
    "accuracies = eval_categories(activitiesnet, rf, paths)"
   ]
  },
  {
   "cell_type": "code",
   "execution_count": 168,
   "metadata": {
    "collapsed": false
   },
   "outputs": [
    {
     "data": {
      "image/png": "[encoded data removed]",
      "text/plain": [
       "<matplotlib.figure.Figure at 0x7fdc65c7a5d0>"
      ]
     },
     "metadata": {},
     "output_type": "display_data"
    }
   ],
   "source": [
    "y_pos = np.arange(NUM_LABELS)\n",
    "plt.barh(y_pos, accuracies,  alpha=1)\n",
    "plt.yticks(y_pos, labels)\n",
    "plt.xlabel('Accuracy')\n",
    "plt.title('List of categories and accuracy')\n",
    "plt.show()"
   ]
  },
  {
   "cell_type": "markdown",
   "metadata": {},
   "source": [
    "Global accuracy"
   ]
  },
  {
   "cell_type": "code",
   "execution_count": 116,
   "metadata": {
    "collapsed": false
   },
   "outputs": [
    {
     "name": "stdout",
     "output_type": "stream",
     "text": [
      "Global accuracy 49% \n"
     ]
    }
   ],
   "source": [
    "def eval_global(net, rf, paths, labels, layer='probs'):\n",
    "    num_samples = len(paths)\n",
    "    features = np.zeros((num_samples, NUM_LABELS + hist_size))\n",
    "    for i, path in enumerate(paths):\n",
    "        cnn_features, hist_features = extract_features_and_hist(net, path, layer)\n",
    "        features[i] = np.append(cnn_features, hist_features)\n",
    "    top_labels = np.array(rf.predict(features))\n",
    "    return np.count_nonzero(top_labels == labels) / float(num_samples) * 100.\n",
    "\n",
    "print \"Global accuracy %2.f%% \" %(eval_global(activitiesnet, rf, test_paths, test_labels))"
   ]
  },
  {
   "cell_type": "code",
   "execution_count": null,
   "metadata": {
    "collapsed": true
   },
   "outputs": [],
   "source": []
  }
 ],
 "metadata": {
  "kernelspec": {
   "display_name": "Python 2",
   "language": "python",
   "name": "python2"
  },
  "language_info": {
   "codemirror_mode": {
    "name": "ipython",
    "version": 2
   },
   "file_extension": ".py",
   "mimetype": "text/x-python",
   "name": "python",
   "nbconvert_exporter": "python",
   "pygments_lexer": "ipython2",
   "version": "2.7.11"
  }
 },
 "nbformat": 4,
 "nbformat_minor": 0
}
