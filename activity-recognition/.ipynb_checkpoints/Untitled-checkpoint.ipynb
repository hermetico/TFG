{
 "cells": [
  {
   "cell_type": "code",
   "execution_count": 5,
   "metadata": {
    "collapsed": true
   },
   "outputs": [],
   "source": [
    "import numpy as np\n",
    "# this file should be run from {caffe_root}/examples (otherwise change this line)\n",
    "caffe_root = '/media/hermetico/2TB/frameworks/caffe/'  \n",
    "\n",
    "# the paths for the labels and for the dataset\n",
    "labels_path = os.path.join(caffe_root, 'data/daily_activities/labels.txt')\n",
    "\n",
    "train_dataset_path = os.path.join(caffe_root, 'data/daily_activities/train.txt')\n",
    "val_dataset_path = os.path.join(caffe_root, 'data/daily_activities/val.txt')\n",
    "test_dataset_path = os.path.join(caffe_root, 'data/daily_activities/test.txt')"
   ]
  },
  {
   "cell_type": "code",
   "execution_count": 7,
   "metadata": {
    "collapsed": false
   },
   "outputs": [],
   "source": [
    "train_dataset = [ \n",
    "    line.split(' ') for line in list(np.loadtxt(train_dataset_path, str, delimiter='\\n'))\n",
    "        if len(line.split(' ')) == 2 # there are some images with wierd paths\n",
    "]\n",
    "\n",
    "val_dataset  = [ \n",
    "    line.split(' ') for line in list(np.loadtxt(val_dataset_path, str, delimiter='\\n')) \n",
    "    if len(line.split(' ')) == 2 # there are some images with wierd paths\n",
    "]\n",
    "\n",
    "test_dataset = [ line.split(' ') \n",
    "                for line in list(np.loadtxt(test_dataset_path, str, delimiter='\\n'))\n",
    "                if len(line.split(' ')) == 2 # there are some images with wierd paths\n",
    "               ]\n",
    "train_paths, train_labels = zip(*[(path, int(label)) for path, label in train_dataset])\n",
    "val_paths, val_labels = zip(*[(path, int(label)) for path, label in val_dataset])\n",
    "test_paths, test_labels = zip(*[(path, int(label)) for path, label in test_dataset])\n",
    "labels = list(np.loadtxt(labels_path, str, delimiter='\\n'))\n",
    "\n",
    "NUM_LABELS = len(labels)"
   ]
  },
  {
   "cell_type": "code",
   "execution_count": null,
   "metadata": {
    "collapsed": true
   },
   "outputs": [],
   "source": [
    "# test pictures\n",
    "train_nums = [0] * NUM_LABELS\n",
    "val_nums = [0] * NUM_LABELS\n",
    "test_nums = [0] * NUM_LABELS\n",
    "# each index index paths will contain a list of  pictures associated to a category\n",
    "for i in range(NUM_LABELS):\n",
    "    train_nums[i] = train_labels.count(i)\n",
    "    val_nums[i] = val_labels.count(i)\n",
    "    test_nums[i] = test_labels.count(i)\n"
   ]
  }
 ],
 "metadata": {
  "kernelspec": {
   "display_name": "Python 2",
   "language": "python",
   "name": "python2"
  },
  "language_info": {
   "codemirror_mode": {
    "name": "ipython",
    "version": 2
   },
   "file_extension": ".py",
   "mimetype": "text/x-python",
   "name": "python",
   "nbconvert_exporter": "python",
   "pygments_lexer": "ipython2",
   "version": "2.7.11"
  }
 },
 "nbformat": 4,
 "nbformat_minor": 0
}
